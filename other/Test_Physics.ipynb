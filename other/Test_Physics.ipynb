{
 "cells": [
  {
   "cell_type": "code",
   "execution_count": 2,
   "id": "consistent-framework",
   "metadata": {},
   "outputs": [],
   "source": [
    "import matplotlib.pyplot as plt\n",
    "import numpy as np "
   ]
  },
  {
   "cell_type": "code",
   "execution_count": null,
   "id": "recorded-chapel",
   "metadata": {},
   "outputs": [],
   "source": [
    "v = 30\n",
    "\n",
    "def f(t) :\n",
    "    return min(1.5*v*t+1, v)/v\n",
    "\n",
    "def g(t):\n",
    "    return max(0.3*v*t, 0)/v\n",
    "\n",
    "\n",
    "N = 15\n",
    "ts = range(N)\n",
    "\n",
    "\n",
    "decc = np.zeros(N)\n",
    "decc[0] = 1.\n",
    "for i in range(N-1):\n",
    "    decc[i+1] = g(decc[i])\n",
    "\n",
    "    \n",
    "acc = np.zeros(N)\n",
    "for i in range(N-1):\n",
    "    acc[i+1] = f(acc[i])\n",
    "\n",
    "plt.figure(figsize=(15,5))\n",
    "plt.subplot(121)\n",
    "plt.plot(ts,v*acc,label=\"v(t)\")\n",
    "plt.plot(ts,[int(v*ac) for ac in acc], label=\"v(t) entier\")\n",
    "\n",
    "plt.legend()\n",
    "\n",
    "plt.subplot(122)\n",
    "plt.plot(ts,v*decc,label=\"v(t)\")\n",
    "plt.plot(ts,[int(v*dec) for dec in decc], label=\"v(t) entier\")\n",
    "plt.legend()\n",
    "plt.show()\n",
    "\n"
   ]
  },
  {
   "cell_type": "code",
   "execution_count": 108,
   "id": "upper-pension",
   "metadata": {},
   "outputs": [
    {
     "data": {
      "text/plain": [
       "[25.0,\n",
       " 12.5,\n",
       " 6.25,\n",
       " 3.125,\n",
       " 1.5625,\n",
       " 0.78125,\n",
       " 0.390625,\n",
       " 0.1953125,\n",
       " 0.09765625,\n",
       " 0.048828125,\n",
       " 0.0244140625,\n",
       " 0.01220703125,\n",
       " 0.006103515625,\n",
       " 0.0030517578125,\n",
       " 0.00152587890625]"
      ]
     },
     "execution_count": 108,
     "metadata": {},
     "output_type": "execute_result"
    }
   ],
   "source": [
    "[dec for dec in decc]"
   ]
  },
  {
   "cell_type": "code",
   "execution_count": 104,
   "id": "confirmed-block",
   "metadata": {},
   "outputs": [
    {
     "data": {
      "text/plain": [
       "[0, 1, 2, 4, 8, 13, 20, 25, 25, 25, 25, 25, 25, 25, 25]"
      ]
     },
     "execution_count": 104,
     "metadata": {},
     "output_type": "execute_result"
    }
   ],
   "source": [
    "[int(25*ac) for ac in acc]"
   ]
  },
  {
   "cell_type": "code",
   "execution_count": 30,
   "id": "acquired-generator",
   "metadata": {},
   "outputs": [
    {
     "data": {
      "text/plain": [
       "[<matplotlib.lines.Line2D at 0x112e14a00>]"
      ]
     },
     "execution_count": 30,
     "metadata": {},
     "output_type": "execute_result"
    },
    {
     "data": {
      "image/png": "[encoded data removed]",
      "text/plain": [
       "<Figure size 432x288 with 1 Axes>"
      ]
     },
     "metadata": {
      "needs_background": "light"
     },
     "output_type": "display_data"
    }
   ],
   "source": [
    "def h(t) :\n",
    "    return min(int((t+1)**2 *15/49),15)\n",
    "a = [0,1,2,3,4,5,6,8,9,10]\n",
    "\n",
    "plt.plot(a, [h(t) for t in a])"
   ]
  },
  {
   "cell_type": "code",
   "execution_count": 31,
   "id": "iraqi-kingdom",
   "metadata": {},
   "outputs": [
    {
     "data": {
      "text/plain": [
       "[0, 1, 2, 4, 7, 11, 15, 15, 15, 15]"
      ]
     },
     "execution_count": 31,
     "metadata": {},
     "output_type": "execute_result"
    }
   ],
   "source": [
    "[h(t) for t in a]"
   ]
  },
  {
   "cell_type": "code",
   "execution_count": 27,
   "id": "bright-processing",
   "metadata": {},
   "outputs": [
    {
     "data": {
      "text/plain": [
       "512"
      ]
     },
     "execution_count": 27,
     "metadata": {},
     "output_type": "execute_result"
    }
   ],
   "source": [
    "8**3"
   ]
  },
  {
   "cell_type": "code",
   "execution_count": 66,
   "id": "lined-greece",
   "metadata": {},
   "outputs": [
    {
     "data": {
      "text/plain": [
       "[<matplotlib.lines.Line2D at 0x113080220>]"
      ]
     },
     "execution_count": 66,
     "metadata": {},
     "output_type": "execute_result"
    },
    {
     "data": {
      "image/png": "[encoded data removed]",
      "text/plain": [
       "<Figure size 432x288 with 1 Axes>"
      ]
     },
     "metadata": {
      "needs_background": "light"
     },
     "output_type": "display_data"
    }
   ],
   "source": [
    "plt.plot([1,2,4,8,13,20,25,25,25,25,25])"
   ]
  },
  {
   "cell_type": "code",
   "execution_count": null,
   "id": "quarterly-replacement",
   "metadata": {},
   "outputs": [],
   "source": []
  }
 ],
 "metadata": {
  "kernelspec": {
   "display_name": "Python 3",
   "language": "python",
   "name": "python3"
  },
  "language_info": {
   "codemirror_mode": {
    "name": "ipython",
    "version": 3
   },
   "file_extension": ".py",
   "mimetype": "text/x-python",
   "name": "python",
   "nbconvert_exporter": "python",
   "pygments_lexer": "ipython3",
   "version": "3.9.2"
  }
 },
 "nbformat": 4,
 "nbformat_minor": 5
}
